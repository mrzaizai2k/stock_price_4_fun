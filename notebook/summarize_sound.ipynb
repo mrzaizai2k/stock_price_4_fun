{
 "cells": [
  {
   "cell_type": "code",
   "execution_count": 1,
   "metadata": {},
   "outputs": [
    {
     "name": "stdout",
     "output_type": "stream",
     "text": [
      "/root/code_Bao/stock_price_4_fun/notebook\n"
     ]
    }
   ],
   "source": [
    "import os\n",
    "try:\n",
    "    print(file_path)\n",
    "except:\n",
    "    file_path = os.path.abspath('')\n",
    "    os.chdir(os.path.dirname(file_path))\n",
    "    print(file_path)"
   ]
  },
  {
   "cell_type": "code",
   "execution_count": 2,
   "metadata": {},
   "outputs": [],
   "source": [
    "import requests\n",
    "import re\n",
    "import time\n",
    "import random\n",
    "import urllib3\n",
    "\n",
    "urllib3.disable_warnings()"
   ]
  },
  {
   "cell_type": "code",
   "execution_count": 3,
   "metadata": {},
   "outputs": [],
   "source": [
    "from src.summarize_text import *"
   ]
  },
  {
   "cell_type": "code",
   "execution_count": 4,
   "metadata": {},
   "outputs": [
    {
     "name": "stdout",
     "output_type": "stream",
     "text": [
      "Device cuda:0\n"
     ]
    }
   ],
   "source": [
    "speech_to_text = SpeechSummaryProcessor(audio_path='data/audio_ogg.ogg')\n",
    "text = speech_to_text.generate_speech_to_text()"
   ]
  },
  {
   "cell_type": "code",
   "execution_count": 5,
   "metadata": {},
   "outputs": [
    {
     "data": {
      "text/plain": [
       "\"1: I'll pick up the things at 8 o'clock later\\n\\n2: At 9:00 a.m., I go to bed to write my essay and go to bed at 10:00 a.m\\n\""
      ]
     },
     "execution_count": 5,
     "metadata": {},
     "output_type": "execute_result"
    }
   ],
   "source": [
    "text"
   ]
  },
  {
   "cell_type": "code",
   "execution_count": 6,
   "metadata": {},
   "outputs": [],
   "source": [
    "symbol = 'SSI'"
   ]
  },
  {
   "cell_type": "code",
   "execution_count": 7,
   "metadata": {},
   "outputs": [],
   "source": [
    "news_scraper = NewsScraper()\n",
    "news_list = news_scraper.search_stock_news(symbol=symbol, date_format='year')\n",
    "news = news_scraper.take_text_from_link(news_url=news_list[0])"
   ]
  },
  {
   "cell_type": "code",
   "execution_count": 8,
   "metadata": {},
   "outputs": [
    {
     "data": {
      "text/plain": [
       "'Tâm điểm đáng chú ý gần đây là việc Ngân hàng Nhà nước quay lại phát hành tín phiếu trên kênh thị trường mở, với tổng khối lượng là 70.000 tỷ đồng trong 5 phiên liên tiếp. Khối lượng phát hành ban đầu ở mức 10.000 tỷ đồng cho ba phiên đầu tiên, sau đó tăng lên 20.000 tỷ đồng trong hai phiên gần nhất.\\nLo ngại khả năng đảo chiều chính sách tiền tệ theo hướng thắt chặt, theo giới chuyên gia, là một phần nguyên nhân khiến chứng khoán đỏ lửa trong một tháng gần đây. Tuy nhiên, trong báo cáo mới phát hành, Bộ phận phân tích Công ty chứng khoán SSI (SSI Research) cho rằng đây là hoạt động thường thấy nhằm điều chỉnh trạng thái thanh khoản ngắn hạn của hệ thống.\\n\"Động thái này không đồng nghĩa với việc Ngân hàng Nhà nước sẽ đảo chiều chính sách tiền tệ\", nhóm phân tích nhận xét.\\nTrên thực tế, việc phát hành tín phiếu còn có thể được coi là tích cực, thay vì Ngân hàng Nhà nước lựa chọn phương án bán ngoại tệ từ dự trữ ngoại hối. Thông qua nghiệp vụ này, cơ quan quản lý có thể có những đánh giá mức độ dồi dào của thanh khoản, điều chỉnh mức lãi suất trên thị trường 2 - thị trường liên ngân hàng - để cân đối giữa áp lực tỷ giá.\\nTheo nhóm phân tích, việc lo ngại về sự đảo chiều chính sách khá dễ hiểu khi tháng 6 năm ngoái, Ngân hàng Nhà nước cũng đã phát hành tín phiếu trên kênh thị trường mở, với tổng khối lượng phát hành lên đến gần 660.000 tỷ đồng. Tuy nhiên, SSI Research cho rằng bối cảnh hiện tại đã có nhiều sự khác biệt.\\nKhác biệt đầu tiên đến từ cơ chế đấu thầu. Phát hành tín phiếu năm ngoái là đấu thầu theo khối lượng (và sau đó mới chuyển thành đấu thầu lãi suất), trong khi đó đấu thầu lãi suất được sử dụng trong 5 ngày vừa qua. Lãi suất phát hành gần như tương đương giai đoạn năm ngoái, tuy nhiên bản chất lại tương đối khác nhau.\\nCụ thể, thanh khoản tại các ngân hàng đều dồi dào, nguyên nhân của vấn đề này trong năm nay lại khác nhiều so với năm trước. Trong năm 2022, nguyên nhân chủ yếu đến từ tăng trưởng tín dụng chạm mức trần hạn mức từ giữa năm thì năm 2023 vấn đề tín dụng tăng chậm là do kinh tế tăng trưởng chậm lại. Tăng trưởng tín dụng tại ngày 15/9 chỉ ở mức 5,5% so với đầu năm.\\nMột điểm khác biệt quan trọng là Ngân hàng Nhà nước lựa chọn phát hành tín phiếu làm phương án bắt đầu trong năm 2023, thay vì bán dự trữ ngoại hối như năm 2022. Về tỷ giá, khác với năm ngoái, mức độ biến động tỷ giá trên thị trường ngân hàng và chợ đen cho thấy chênh lệch cung - cầu đang nghiêng nhiều trên thị trường ngân hàng. Điều này nhiều khả năng là do hoạt động đầu cơ chênh lệch tỷ giá.\\n  \\n\"Vị thế ngoại tệ trên hệ thống vẫn chưa gặp quá nhiều áp lực nhờ nguồn cung ngoại tệ dồi dào. Một điểm tích cực khác là vị thế của Ngân hàng Nhà nước tương đối khác so với thời điểm cùng kỳ năm ngoái\", báo cáo viết.\\nVới câu hỏi việc hút tín phiếu sẽ kéo dài trong bao lâu, SSI Research cho rằng con số 70.000 tỷ đồng vẫn còn thấp, vẫn có thể có dư địa để phát hành thêm khoảng 130.000 tỷ đồng, tương đương vào khoảng 6-7 phiên giao dịch nữa.\\nThứ hai, Ngân hàng Nhà nước đã phát hành tín phiếu với lãi suất khá thấp và mặt bằng lãi suất liên ngân hàng chưa có sự thay đổi đáng kể nào có thể chứng minh được quan điểm là thanh khoản trên thị trường 2 đang rất dồi dào. Việc đánh giá được khối lượng dư thừa của thanh khoản hệ thống ngân hàng cũng có thể giúp cơ quan quản lý có cái nhìn tổng quan hơn.\\nTrong nửa đầu năm, Ngân hàng Nhà nước đã mua vào 6 tỷ USD bổ sung vào nguồn ngoại hối, tương đương 130.000 tỷ đồng bơm vào thanh khoản hệ thống. Do đó, nhóm phân tích cho rằng việc phát hành tín phiếu lúc này có thể là bước đi ban đầu nhằm kiểm tra thanh khoản và có những đánh giá cho mức lãi suất phù hợp trên thị trường 2 để hạn chế tối đa ảnh hưởng lên mặt bằng lãi suất thị trường 1.\\nMinh Sơn\\n'"
      ]
     },
     "execution_count": 8,
     "metadata": {},
     "output_type": "execute_result"
    }
   ],
   "source": [
    "news"
   ]
  },
  {
   "cell_type": "code",
   "execution_count": 9,
   "metadata": {},
   "outputs": [],
   "source": [
    "new_summarizer = NewsSummarizer()\n",
    "sum_text = new_summarizer.summary_news(news= news)"
   ]
  },
  {
   "cell_type": "code",
   "execution_count": 16,
   "metadata": {},
   "outputs": [
    {
     "name": "stdout",
     "output_type": "stream",
     "text": [
      "Việc NHNN quay trở lại phát hành tín phiếu trên kênh thị trường mở có tổng khối lượng 70.000 tỷ đồng. \n",
      "Khối lượng phát hành ban đầu ở mức 10.000 tỷ đồng trong ba phiên đầu tiên, sau đó tăng lên 20.000 tỷ đồng trong hai phiên cuối cùng. \n",
      "Lo ngại về khả năng đảo ngược chính sách tiền tệ theo hướng thắt chặt là một phần nguyên nhân khiến chứng khoán giảm giá trong những tháng gần đây.\n",
      "\n",
      "Ngân hàng Nhà nước chọn phát hành tín phiếu là phương án bắt đầu từ năm 2023. \n",
      "Chênh lệch cung cầu trên thị trường ngân hàng ngày càng chênh lệch lớn. \n",
      "SSI Research cho rằng con số 70.000 tỷ đồng vẫn còn thấp.\n",
      "\n"
     ]
    }
   ],
   "source": [
    "print(sum_text)"
   ]
  },
  {
   "cell_type": "code",
   "execution_count": 12,
   "metadata": {},
   "outputs": [],
   "source": [
    "watch_list=['GEX', 'VIX', 'HHV', 'BSR', 'SHS', 'PDR', 'CTR', 'HAH', 'VNINDEX', 'VND']"
   ]
  },
  {
   "cell_type": "code",
   "execution_count": 13,
   "metadata": {},
   "outputs": [],
   "source": [
    "news_db = StockNewsDatabase()\n",
    "# news_db.update_stock_news(watch_list)"
   ]
  },
  {
   "cell_type": "code",
   "execution_count": 20,
   "metadata": {},
   "outputs": [
    {
     "data": {
      "text/plain": [
       "('Cổ phiếu GMD của Gemadept là một trong những cổ phiếu tăng mạnh nhất sàn HoSE khi đóng cửa tăng toàn bộ lên 73.000 đồng. \\nCác cổ phiếu cảng biển, logistics khác cũng giao dịch sôi động như HAH tăng gần 4%. \\nChứng khoán cũng mở cửa phiên đầu tuần trong trạng thái tích cực.\\n\\nMSN là cổ phiếu duy nhất tăng trên 5%, MWG tăng thêm 0,7%, FRT và DGW đều đóng cửa trong sắc xanh. \\nỞ nhóm bất động sản, màu xanh cũng chiếm ưu thế.\\n',\n",
       " 'https://vnexpress.net/co-phieu-van-tai-bien-noi-song-4693192.html')"
      ]
     },
     "execution_count": 20,
     "metadata": {},
     "output_type": "execute_result"
    }
   ],
   "source": [
    "news_db.extract_text_for_stock(stock_symbol='HAH')"
   ]
  },
  {
   "cell_type": "code",
   "execution_count": 15,
   "metadata": {},
   "outputs": [
    {
     "data": {
      "text/plain": [
       "['VND', 'MSB', 'STB', 'HAH', 'CEO', 'BSR', 'HPG', 'PVS']"
      ]
     },
     "execution_count": 15,
     "metadata": {},
     "output_type": "execute_result"
    }
   ],
   "source": [
    "news_db.get_all_stocks()"
   ]
  },
  {
   "cell_type": "code",
   "execution_count": 17,
   "metadata": {},
   "outputs": [
    {
     "name": "stderr",
     "output_type": "stream",
     "text": [
      "Your max_length is set to 230, but your input_length is only 75. Since this is a summarization task, where outputs shorter than the input are typically wanted, you might consider decreasing max_length manually, e.g. summarizer('...', max_length=37)\n"
     ]
    },
    {
     "name": "stdout",
     "output_type": "stream",
     "text": [
      "Summary data saved to data/summary_stock_news.json\n"
     ]
    }
   ],
   "source": [
    "# news_db.update_stock_news(watch_list)"
   ]
  }
 ],
 "metadata": {
  "kernelspec": {
   "display_name": "venv",
   "language": "python",
   "name": "python3"
  },
  "language_info": {
   "codemirror_mode": {
    "name": "ipython",
    "version": 3
   },
   "file_extension": ".py",
   "mimetype": "text/x-python",
   "name": "python",
   "nbconvert_exporter": "python",
   "pygments_lexer": "ipython3",
   "version": "3.10.12"
  }
 },
 "nbformat": 4,
 "nbformat_minor": 2
}
